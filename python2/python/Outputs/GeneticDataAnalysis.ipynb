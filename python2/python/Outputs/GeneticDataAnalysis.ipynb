{
 "cells": [
  {
   "cell_type": "code",
   "execution_count": 1,
   "id": "eb58613c",
   "metadata": {},
   "outputs": [],
   "source": [
    "file1 = open('comboRecorder.txt', 'r')\n",
    "data = []\n",
    " \n",
    "while True:\n",
    " \n",
    "    # Get next line from file\n",
    "    line = file1.readline()\n",
    " \n",
    "    # if line is empty\n",
    "    # end of file is reached\n",
    "    if not line:\n",
    "        break\n",
    "    data.append(line.strip())\n",
    "    #print(\"Line{}: {}\".format(count, line.strip()))\n",
    "file1.close()"
   ]
  },
  {
   "cell_type": "code",
   "execution_count": 2,
   "id": "a9efa2f4",
   "metadata": {},
   "outputs": [],
   "source": [
    "%matplotlib inline\n",
    "import matplotlib.pyplot as plt\n",
    "plt.style.use('seaborn-whitegrid')\n",
    "import numpy as np"
   ]
  },
  {
   "cell_type": "code",
   "execution_count": 3,
   "id": "013cfec4",
   "metadata": {},
   "outputs": [
    {
     "data": {
      "text/plain": [
       "array([   0,    0,    0, ..., 1042, 1042, 1042])"
      ]
     },
     "execution_count": 3,
     "metadata": {},
     "output_type": "execute_result"
    }
   ],
   "source": [
    "data_X = []\n",
    "for i in range(int(len(data)/5)):\n",
    "    for j in range(5):\n",
    "        data_X.append(i)\n",
    "x = np.array(data_X)\n",
    "x"
   ]
  },
  {
   "cell_type": "code",
   "execution_count": 4,
   "id": "e5c5166f",
   "metadata": {},
   "outputs": [
    {
     "data": {
      "text/plain": [
       "array([28.25    , 28.25    , 27.421875, ..., 84.25    , 84.25    ,\n",
       "       84.25    ])"
      ]
     },
     "execution_count": 4,
     "metadata": {},
     "output_type": "execute_result"
    }
   ],
   "source": [
    "data_y = []\n",
    "for i in range(len(data)):\n",
    "    data_y.append(float(data[i].split(\",\")[0]))\n",
    "y = np.array(data_y)\n",
    "y"
   ]
  },
  {
   "cell_type": "code",
   "execution_count": 5,
   "id": "609e090f",
   "metadata": {},
   "outputs": [],
   "source": [
    "y1 = []\n",
    "y2 = []\n",
    "y3 = []\n",
    "y4 = []\n",
    "y5 = []"
   ]
  },
  {
   "cell_type": "code",
   "execution_count": 6,
   "id": "1b4350e1",
   "metadata": {},
   "outputs": [
    {
     "data": {
      "text/plain": [
       "1043"
      ]
     },
     "execution_count": 6,
     "metadata": {},
     "output_type": "execute_result"
    }
   ],
   "source": [
    "new_X = []\n",
    "for i in range(int(len(data)/5)):\n",
    "    new_X.append(i)\n",
    "new_X = np.array(new_X)\n",
    "len(new_X)"
   ]
  },
  {
   "cell_type": "code",
   "execution_count": 7,
   "id": "8400c666",
   "metadata": {},
   "outputs": [],
   "source": [
    "for i in range(len(data)):\n",
    "    if i%5 == 0:\n",
    "        y1.append(y[i])\n",
    "    elif i%5 == 1:\n",
    "        y2.append(y[i])\n",
    "    elif i%5 == 2:\n",
    "        y3.append(y[i])\n",
    "    elif i%5 == 3:\n",
    "        y4.append(y[i])\n",
    "    elif i%5 == 4:\n",
    "        y5.append(y[i])\n",
    "y1 = np.array(y1)\n",
    "y2 = np.array(y2)\n",
    "y3 = np.array(y3)\n",
    "y4 = np.array(y4)\n",
    "y5 = np.array(y5)"
   ]
  },
  {
   "cell_type": "code",
   "execution_count": 8,
   "id": "1e3e2349",
   "metadata": {},
   "outputs": [
    {
     "data": {
      "text/plain": [
       "1043"
      ]
     },
     "execution_count": 8,
     "metadata": {},
     "output_type": "execute_result"
    }
   ],
   "source": [
    "len(y1)"
   ]
  },
  {
   "cell_type": "code",
   "execution_count": 21,
   "id": "d25b321f",
   "metadata": {},
   "outputs": [
    {
     "data": {
      "text/plain": [
       "Text(0, 0.5, 'Heuristics')"
      ]
     },
     "execution_count": 21,
     "metadata": {},
     "output_type": "execute_result"
    },
    {
     "data": {
      "image/png": "[encoded data removed]",
      "text/plain": [
       "<Figure size 432x288 with 1 Axes>"
      ]
     },
     "metadata": {
      "needs_background": "light"
     },
     "output_type": "display_data"
    }
   ],
   "source": [
    "fig = plt.figure()\n",
    "ax = plt.axes()\n",
    "\n",
    "ax.plot(new_X, y3)\n",
    "ax.set_xlabel('Iterations')\n",
    "ax.set_ylabel('Heuristics')\n",
    "#plt.plot(new_X, y1)\n",
    "# plt.plot(new_X, y2)\n",
    "# plt.plot(new_X, y3)\n",
    "# plt.plot(new_X, y4)\n",
    "# plt.plot(new_X, y5)\n",
    "\n",
    "#plt.ticklabel_format(axis=\"y\", style=\"sci\", scilimits=(0,0))"
   ]
  },
  {
   "cell_type": "code",
   "execution_count": null,
   "id": "bfe7bc96",
   "metadata": {},
   "outputs": [],
   "source": []
  }
 ],
 "metadata": {
  "kernelspec": {
   "display_name": "Python 3",
   "language": "python",
   "name": "python3"
  },
  "language_info": {
   "codemirror_mode": {
    "name": "ipython",
    "version": 3
   },
   "file_extension": ".py",
   "mimetype": "text/x-python",
   "name": "python",
   "nbconvert_exporter": "python",
   "pygments_lexer": "ipython3",
   "version": "3.5.4"
  }
 },
 "nbformat": 4,
 "nbformat_minor": 5
}
